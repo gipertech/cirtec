{
 "cells": [
  {
   "cell_type": "markdown",
   "metadata": {},
   "source": [
    "# Load(url), save to file"
   ]
  },
  {
   "cell_type": "code",
   "execution_count": 1,
   "metadata": {},
   "outputs": [],
   "source": [
    "# import urllib.request\n",
    "# url = 'http://cirtec.ranepa.ru/Word2Vec/fixes.raw.txt'\n",
    "# response = urllib.request.urlopen(url)\n",
    "# data = response.read()      # a `bytes` object"
   ]
  },
  {
   "cell_type": "code",
   "execution_count": 2,
   "metadata": {},
   "outputs": [],
   "source": [
    "# with open('./Word2Vec/fixes.raw.txt', 'wb') as f:\n",
    "#     f.write(data)"
   ]
  },
  {
   "cell_type": "markdown",
   "metadata": {},
   "source": [
    "# load file"
   ]
  },
  {
   "cell_type": "code",
   "execution_count": 2,
   "metadata": {
    "ExecuteTime": {
     "end_time": "2018-10-01T06:53:06.870605Z",
     "start_time": "2018-10-01T06:52:49.670254Z"
    }
   },
   "outputs": [],
   "source": [
    "\n",
    "with open('./Word2Vec/fixes.raw.txt', 'rb') as f:\n",
    "    data = f.read()"
   ]
  },
  {
   "cell_type": "markdown",
   "metadata": {},
   "source": [
    "# Get data"
   ]
  },
  {
   "cell_type": "code",
   "execution_count": 3,
   "metadata": {
    "ExecuteTime": {
     "end_time": "2018-10-01T06:53:12.910853Z",
     "start_time": "2018-10-01T06:53:06.873996Z"
    }
   },
   "outputs": [],
   "source": [
    "text = data.decode('utf-8') # a `str`; this step can't be used if data is binary"
   ]
  },
  {
   "cell_type": "code",
   "execution_count": 3,
   "metadata": {
    "ExecuteTime": {
     "end_time": "2018-10-01T06:15:44.124675Z",
     "start_time": "2018-10-01T06:15:44.110858Z"
    }
   },
   "outputs": [],
   "source": [
    "import string\n",
    "import re\n",
    "\n",
    "# regex = re.compile('[%s]' % re.escape(string.punctuation))\n",
    "regex = re.compile('[^а-яА-Я]')"
   ]
  },
  {
   "cell_type": "code",
   "execution_count": 5,
   "metadata": {
    "ExecuteTime": {
     "end_time": "2018-10-01T06:17:10.986624Z",
     "start_time": "2018-10-01T06:17:10.884875Z"
    }
   },
   "outputs": [],
   "source": [
    "import pymorphy2\n",
    "\n",
    "morph = pymorphy2.MorphAnalyzer()"
   ]
  },
  {
   "cell_type": "code",
   "execution_count": 6,
   "metadata": {
    "ExecuteTime": {
     "end_time": "2018-10-01T06:17:12.464409Z",
     "start_time": "2018-10-01T06:17:12.461418Z"
    }
   },
   "outputs": [],
   "source": [
    "def get_average_len_words(sentence):\n",
    "    words = sentence.split()\n",
    "    return sum([len(word) for word in words]) / len(words)"
   ]
  },
  {
   "cell_type": "code",
   "execution_count": 8,
   "metadata": {},
   "outputs": [],
   "source": [
    "# 10,000 ~ 3 минуты"
   ]
  },
  {
   "cell_type": "code",
   "execution_count": 1,
   "metadata": {
    "ExecuteTime": {
     "end_time": "2018-10-01T06:51:09.845229Z",
     "start_time": "2018-10-01T06:51:09.474483Z"
    }
   },
   "outputs": [
    {
     "name": "stdout",
     "output_type": "stream",
     "text": [
      "CPU times: user 422 ms, sys: 438 ms, total: 859 ms\n",
      "Wall time: 365 ms\n"
     ]
    }
   ],
   "source": [
    "%%time\n",
    "import pandas as pd\n",
    "\n",
    "count_of_sentences = 100000\n",
    "\n",
    "df_lines = pd.DataFrame([line.split(\" \", 4) for line in text.split(\"\\n\")][:count_of_sentences],\n",
    "                        columns= [\"citing_1\", \"citing_2\", \"citing_3\", \"start_ind\", \"text\"])\n",
    "df_lines = df_lines[~df_lines.text.isna()]\n",
    "df_lines[\"average_len\"] = df_lines.text.apply(get_average_len_words)\n",
    "df_lines = df_lines[df_lines.average_len >= 4]\n",
    "df_lines[\"normal_words\"] = df_lines.text.apply(lambda text: [morph.parse(word)[0].normal_form for word in regex.sub(' ', text).split()])\n",
    "df_lines.shape"
   ]
  },
  {
   "cell_type": "code",
   "execution_count": 14,
   "metadata": {
    "ExecuteTime": {
     "end_time": "2018-10-01T06:20:51.830724Z",
     "start_time": "2018-10-01T06:20:51.804873Z"
    }
   },
   "outputs": [
    {
     "data": {
      "text/html": [
       "<div>\n",
       "<style scoped>\n",
       "    .dataframe tbody tr th:only-of-type {\n",
       "        vertical-align: middle;\n",
       "    }\n",
       "\n",
       "    .dataframe tbody tr th {\n",
       "        vertical-align: top;\n",
       "    }\n",
       "\n",
       "    .dataframe thead th {\n",
       "        text-align: right;\n",
       "    }\n",
       "</style>\n",
       "<table border=\"1\" class=\"dataframe\">\n",
       "  <thead>\n",
       "    <tr style=\"text-align: right;\">\n",
       "      <th></th>\n",
       "      <th>citing_1</th>\n",
       "      <th>citing_2</th>\n",
       "      <th>citing_3</th>\n",
       "      <th>start_ind</th>\n",
       "      <th>text</th>\n",
       "      <th>average_len</th>\n",
       "      <th>normal_words</th>\n",
       "    </tr>\n",
       "  </thead>\n",
       "  <tbody>\n",
       "    <tr>\n",
       "      <th>0</th>\n",
       "      <td>citing:spz:neicon</td>\n",
       "      <td>citing:neicon:niidi</td>\n",
       "      <td>citing:y:2017:i:2:p:13-16</td>\n",
       "      <td>start_2027</td>\n",
       "      <td>Key words: intoxication, glutathione S-transfe...</td>\n",
       "      <td>7.625000</td>\n",
       "      <td>[ми, туберкулёз, лёгкое, выполнить, фармакоген...</td>\n",
       "    </tr>\n",
       "    <tr>\n",
       "      <th>1</th>\n",
       "      <td>citing:spz:neicon</td>\n",
       "      <td>citing:neicon:niidi</td>\n",
       "      <td>citing:y:2017:i:2:p:13-16</td>\n",
       "      <td>start_2521</td>\n",
       "      <td>Среди них наибольшее значение в метаболизме кс...</td>\n",
       "      <td>6.797101</td>\n",
       "      <td>[среди, они, наибольший, значение, в, метаболи...</td>\n",
       "    </tr>\n",
       "    <tr>\n",
       "      <th>2</th>\n",
       "      <td>citing:spz:neicon</td>\n",
       "      <td>citing:neicon:niidi</td>\n",
       "      <td>citing:y:2017:i:2:p:13-16</td>\n",
       "      <td>start_2811</td>\n",
       "      <td>Анализ данных литературы свидетельствует о нал...</td>\n",
       "      <td>7.876923</td>\n",
       "      <td>[анализ, дать, литература, свидетельствовать, ...</td>\n",
       "    </tr>\n",
       "    <tr>\n",
       "      <th>3</th>\n",
       "      <td>citing:spz:neicon</td>\n",
       "      <td>citing:neicon:niidi</td>\n",
       "      <td>citing:y:2017:i:2:p:13-16</td>\n",
       "      <td>start_3115</td>\n",
       "      <td>Физическое исследование больного туберкулёзом ...</td>\n",
       "      <td>7.906977</td>\n",
       "      <td>[физический, исследование, больной, туберкул, ...</td>\n",
       "    </tr>\n",
       "  </tbody>\n",
       "</table>\n",
       "</div>"
      ],
      "text/plain": [
       "            citing_1             citing_2                   citing_3  \\\n",
       "0  citing:spz:neicon  citing:neicon:niidi  citing:y:2017:i:2:p:13-16   \n",
       "1  citing:spz:neicon  citing:neicon:niidi  citing:y:2017:i:2:p:13-16   \n",
       "2  citing:spz:neicon  citing:neicon:niidi  citing:y:2017:i:2:p:13-16   \n",
       "3  citing:spz:neicon  citing:neicon:niidi  citing:y:2017:i:2:p:13-16   \n",
       "\n",
       "    start_ind                                               text  average_len  \\\n",
       "0  start_2027  Key words: intoxication, glutathione S-transfe...     7.625000   \n",
       "1  start_2521  Среди них наибольшее значение в метаболизме кс...     6.797101   \n",
       "2  start_2811  Анализ данных литературы свидетельствует о нал...     7.876923   \n",
       "3  start_3115  Физическое исследование больного туберкулёзом ...     7.906977   \n",
       "\n",
       "                                        normal_words  \n",
       "0  [ми, туберкулёз, лёгкое, выполнить, фармакоген...  \n",
       "1  [среди, они, наибольший, значение, в, метаболи...  \n",
       "2  [анализ, дать, литература, свидетельствовать, ...  \n",
       "3  [физический, исследование, больной, туберкул, ...  "
      ]
     },
     "execution_count": 14,
     "metadata": {},
     "output_type": "execute_result"
    }
   ],
   "source": [
    "df_lines.head(4)"
   ]
  },
  {
   "cell_type": "code",
   "execution_count": 15,
   "metadata": {
    "ExecuteTime": {
     "end_time": "2018-10-01T06:20:53.820134Z",
     "start_time": "2018-10-01T06:20:53.195835Z"
    }
   },
   "outputs": [],
   "source": [
    "from gensim.models.phrases import Phrases"
   ]
  },
  {
   "cell_type": "code",
   "execution_count": 16,
   "metadata": {
    "ExecuteTime": {
     "end_time": "2018-10-01T06:20:54.662345Z",
     "start_time": "2018-10-01T06:20:54.251999Z"
    }
   },
   "outputs": [
    {
     "name": "stderr",
     "output_type": "stream",
     "text": [
      "/usr/local/lib/python3.5/dist-packages/gensim/models/phrases.py:598: UserWarning: For a faster implementation, use the gensim.models.phrases.Phraser class\n",
      "  warnings.warn(\"For a faster implementation, use the gensim.models.phrases.Phraser class\")\n"
     ]
    }
   ],
   "source": [
    "bigram = Phrases(df_lines.normal_words.values.tolist(), min_count=2, threshold=10)\n",
    "trigram\n",
    "df_lines[\"map_normal_words\"] = [bigram[normal_words] for normal_words in df_lines.normal_words]"
   ]
  },
  {
   "cell_type": "code",
   "execution_count": 17,
   "metadata": {
    "ExecuteTime": {
     "end_time": "2018-10-01T06:20:55.307865Z",
     "start_time": "2018-10-01T06:20:55.283595Z"
    }
   },
   "outputs": [],
   "source": [
    "sorted_by_value = sorted(dict(bigram.vocab).items(), key=lambda kv: kv[1], reverse=True)"
   ]
  },
  {
   "cell_type": "code",
   "execution_count": 21,
   "metadata": {
    "ExecuteTime": {
     "end_time": "2018-10-01T06:21:13.394914Z",
     "start_time": "2018-10-01T06:21:13.364577Z"
    }
   },
   "outputs": [],
   "source": [
    "# import nltk\n",
    "# nltk.download()\n",
    "\n",
    "from nltk.corpus import stopwords\n",
    "from nltk.tokenize import wordpunct_tokenize\n",
    "stop_words = set(stopwords.words('russian'))\n",
    "\n",
    "sorted_by_value_not_stop_words = [value for value in sorted_by_value if value[0].decode(\"utf-8\") not in stop_words]"
   ]
  },
  {
   "cell_type": "code",
   "execution_count": 23,
   "metadata": {
    "ExecuteTime": {
     "end_time": "2018-10-01T06:21:19.999896Z",
     "start_time": "2018-10-01T06:21:19.987220Z"
    }
   },
   "outputs": [
    {
     "name": "stdout",
     "output_type": "stream",
     "text": [
      "исследование\n",
      "год\n",
      "который\n",
      "тип\n",
      "являться\n",
      "больной\n",
      "дать\n",
      "развитие\n",
      "ребёнок\n",
      "это\n",
      "случай\n",
      "желудок\n",
      "соавт\n",
      "и_соавт\n",
      "рак\n",
      "снижение\n",
      "уровень\n",
      "опухоль\n",
      "также\n",
      "мочь\n",
      "лечение\n",
      "пациент\n",
      "время\n",
      "ранний\n",
      "фактор\n",
      "тромбоз\n",
      "иметь\n",
      "стопа\n",
      "высокий\n",
      "результат\n",
      "хемерин\n",
      "рак_желудок\n",
      "у_ребёнок\n",
      "наличие\n",
      "изменение\n",
      "заболевание\n",
      "весь\n",
      "автор\n",
      "группа\n",
      "число\n",
      "терапия\n",
      "ррж\n",
      "инвазия\n",
      "костя\n",
      "клетка\n",
      "афл\n",
      "однако\n",
      "сустав\n",
      "показать\n",
      "система\n",
      "соавт_и\n",
      "лерканидипин\n",
      "работа\n",
      "метод\n",
      "кровь\n",
      "применение\n",
      "процесс\n",
      "прогноз\n",
      "хрящ\n",
      "активность\n",
      "и_в\n",
      "качество\n",
      "клинический\n",
      "в_год\n",
      "анализ\n",
      "ребёнок_с\n",
      "образование\n",
      "костный\n",
      "препарат\n",
      "ткань\n",
      "частота\n",
      "классификация\n",
      "структура\n",
      "влияние\n",
      "течение\n",
      "у_больной\n",
      "коллаген\n",
      "риска\n",
      "мутация\n",
      "ба\n",
      "цель\n",
      "доза\n",
      "отметить\n",
      "коллаген_тип\n",
      "ра\n",
      "а_также\n",
      "повышение\n",
      "аденокарцинома\n",
      "ранний_рак\n",
      "наиболее\n",
      "риск\n",
      "оболочка\n",
      "эффект\n",
      "технология\n",
      "степень\n",
      "различный\n",
      "использование\n",
      "связь\n",
      "важный\n",
      "согласно\n"
     ]
    }
   ],
   "source": [
    "for word, count in sorted_by_value_not_stop_words[:100]:\n",
    "    print(word.decode(\"utf-8\"))"
   ]
  },
  {
   "cell_type": "code",
   "execution_count": null,
   "metadata": {},
   "outputs": [],
   "source": []
  }
 ],
 "metadata": {
  "kernelspec": {
   "display_name": "Python 2",
   "language": "python",
   "name": "python2"
  },
  "language_info": {
   "codemirror_mode": {
    "name": "ipython",
    "version": 3
   },
   "file_extension": ".py",
   "mimetype": "text/x-python",
   "name": "python",
   "nbconvert_exporter": "python",
   "pygments_lexer": "ipython3",
   "version": "3.5.2"
  },
  "varInspector": {
   "cols": {
    "lenName": 16,
    "lenType": 16,
    "lenVar": 40
   },
   "kernels_config": {
    "python": {
     "delete_cmd_postfix": "",
     "delete_cmd_prefix": "del ",
     "library": "var_list.py",
     "varRefreshCmd": "print(var_dic_list())"
    },
    "r": {
     "delete_cmd_postfix": ") ",
     "delete_cmd_prefix": "rm(",
     "library": "var_list.r",
     "varRefreshCmd": "cat(var_dic_list()) "
    }
   },
   "types_to_exclude": [
    "module",
    "function",
    "builtin_function_or_method",
    "instance",
    "_Feature"
   ],
   "window_display": false
  }
 },
 "nbformat": 4,
 "nbformat_minor": 2
}
