{
 "cells": [
  {
   "cell_type": "markdown",
   "metadata": {},
   "source": [
    "# Load(url), save to file"
   ]
  },
  {
   "cell_type": "code",
   "execution_count": 1,
   "metadata": {},
   "outputs": [],
   "source": [
    "import urllib.request\n",
    "url = 'http://cirtec.ranepa.ru/Word2Vec/fixes.stem.txt'\n",
    "response = urllib.request.urlopen(url)\n",
    "data = response.read()      # a `bytes` object"
   ]
  },
  {
   "cell_type": "code",
   "execution_count": 2,
   "metadata": {},
   "outputs": [],
   "source": [
    "with open('./Word2Vec/fixes.stem.txt', 'wb') as f:\n",
    "    f.write(data)"
   ]
  },
  {
   "cell_type": "markdown",
   "metadata": {},
   "source": [
    "# load file"
   ]
  },
  {
   "cell_type": "code",
   "execution_count": 1,
   "metadata": {
    "ExecuteTime": {
     "end_time": "2018-10-01T14:16:32.581229Z",
     "start_time": "2018-10-01T14:16:31.172741Z"
    }
   },
   "outputs": [],
   "source": [
    "\n",
    "with open('./Word2Vec/fixes.stem.txt', 'rb') as f:\n",
    "    data = f.read()"
   ]
  },
  {
   "cell_type": "markdown",
   "metadata": {},
   "source": [
    "# Get data"
   ]
  },
  {
   "cell_type": "code",
   "execution_count": 64,
   "metadata": {
    "ExecuteTime": {
     "end_time": "2018-10-01T14:48:28.248989Z",
     "start_time": "2018-10-01T14:48:23.339545Z"
    }
   },
   "outputs": [],
   "source": [
    "text = data.decode('utf-8') # a `str`; this step can't be used if data is binary"
   ]
  },
  {
   "cell_type": "code",
   "execution_count": 65,
   "metadata": {
    "ExecuteTime": {
     "end_time": "2018-10-01T14:48:30.013187Z",
     "start_time": "2018-10-01T14:48:28.251933Z"
    }
   },
   "outputs": [],
   "source": [
    "sentences = text.split(\"\\n\")"
   ]
  },
  {
   "cell_type": "code",
   "execution_count": 39,
   "metadata": {
    "ExecuteTime": {
     "end_time": "2018-10-01T14:30:08.177537Z",
     "start_time": "2018-10-01T14:30:08.050603Z"
    }
   },
   "outputs": [],
   "source": [
    "sentences = sentences[:1000000]"
   ]
  },
  {
   "cell_type": "code",
   "execution_count": 66,
   "metadata": {
    "ExecuteTime": {
     "end_time": "2018-10-01T14:48:30.029384Z",
     "start_time": "2018-10-01T14:48:30.015725Z"
    }
   },
   "outputs": [],
   "source": [
    "def get_average_len_words(sentence):\n",
    "    words = sentence.split()\n",
    "    if len(words) == 0:\n",
    "        return 0\n",
    "    return sum([len(word) for word in words]) / len(words)"
   ]
  },
  {
   "cell_type": "code",
   "execution_count": 67,
   "metadata": {
    "ExecuteTime": {
     "end_time": "2018-10-01T14:48:42.838000Z",
     "start_time": "2018-10-01T14:48:30.033054Z"
    },
    "scrolled": true
   },
   "outputs": [],
   "source": [
    "sentences = list(filter(lambda x: get_average_len_words(x) > 4, sentences))"
   ]
  },
  {
   "cell_type": "code",
   "execution_count": 68,
   "metadata": {
    "ExecuteTime": {
     "end_time": "2018-10-01T14:48:42.843991Z",
     "start_time": "2018-10-01T14:48:42.840636Z"
    }
   },
   "outputs": [],
   "source": [
    "def drop_short_words(sentence):\n",
    "    words = sentence.split()\n",
    "    return ' '.join(filter(lambda x: len(x) > 7, words))\n"
   ]
  },
  {
   "cell_type": "code",
   "execution_count": 69,
   "metadata": {
    "ExecuteTime": {
     "end_time": "2018-10-01T14:49:14.658391Z",
     "start_time": "2018-10-01T14:48:42.847475Z"
    }
   },
   "outputs": [],
   "source": [
    "sentences = list(map(drop_short_words, sentences))"
   ]
  },
  {
   "cell_type": "code",
   "execution_count": 70,
   "metadata": {
    "ExecuteTime": {
     "end_time": "2018-10-01T14:50:50.139071Z",
     "start_time": "2018-10-01T14:49:14.661134Z"
    }
   },
   "outputs": [],
   "source": [
    "sentences = list(map(lambda x: x.split(), sentences))"
   ]
  },
  {
   "cell_type": "code",
   "execution_count": 71,
   "metadata": {
    "ExecuteTime": {
     "end_time": "2018-10-01T15:06:19.202292Z",
     "start_time": "2018-10-01T14:50:50.271660Z"
    }
   },
   "outputs": [
    {
     "name": "stdout",
     "output_type": "stream",
     "text": [
      "1\n"
     ]
    },
    {
     "name": "stderr",
     "output_type": "stream",
     "text": [
      "/usr/local/lib/python3.5/dist-packages/gensim/models/phrases.py:598: UserWarning: For a faster implementation, use the gensim.models.phrases.Phraser class\n",
      "  warnings.warn(\"For a faster implementation, use the gensim.models.phrases.Phraser class\")\n"
     ]
    },
    {
     "name": "stdout",
     "output_type": "stream",
     "text": [
      "2\n"
     ]
    }
   ],
   "source": [
    "from gensim.models.phrases import Phrases\n",
    "\n",
    "bigram = Phrases(sentences, min_count=20, delimiter=b\"%\", threshold=10)\n",
    "print(1)\n",
    "bigr_sents = bigram[sentences]\n",
    "trigram = Phrases(bigr_sents, min_count=20, delimiter=b\"#\", threshold=10)\n",
    "print(2)\n",
    "preparated_sent = trigram[bigr_sents]"
   ]
  },
  {
   "cell_type": "code",
   "execution_count": 72,
   "metadata": {
    "ExecuteTime": {
     "end_time": "2018-10-01T15:07:18.434419Z",
     "start_time": "2018-10-01T15:06:19.995870Z"
    }
   },
   "outputs": [],
   "source": [
    "sorted_by_value = sorted(dict(trigram.vocab).items(), key=lambda kv: kv[1], reverse=True)"
   ]
  },
  {
   "cell_type": "code",
   "execution_count": 47,
   "metadata": {
    "ExecuteTime": {
     "end_time": "2018-10-01T14:34:36.245117Z",
     "start_time": "2018-10-01T14:34:33.268234Z"
    }
   },
   "outputs": [],
   "source": [
    "from nltk.corpus import stopwords\n",
    "from nltk.tokenize import wordpunct_tokenize\n",
    "stop_words = set(stopwords.words('russian'))\n",
    "\n",
    "sorted_by_value_not_stop_words = [value for value in sorted_by_value if value[0].decode(\"utf-8\") not in stop_words]"
   ]
  },
  {
   "cell_type": "code",
   "execution_count": 73,
   "metadata": {
    "ExecuteTime": {
     "end_time": "2018-10-01T15:07:18.716176Z",
     "start_time": "2018-10-01T15:07:18.494235Z"
    }
   },
   "outputs": [
    {
     "name": "stdout",
     "output_type": "stream",
     "text": [
      "4253 из-за_PREP\n",
      "4248 национальный_ADJF\n",
      "4234 нет_PRED\n",
      "4224 изображение_NOUN\n",
      "4220 комбинация_NOUN\n",
      "4215 включать_VERB\n",
      "4206 право_NOUN\n",
      "4206 переход_NOUN\n",
      "4198 конкретный_ADJF\n",
      "4182 известно_PRED%что_CONJ\n",
      "4171 сам_ADJF\n",
      "4161 становиться_VERB\n",
      "4153 ограничение_NOUN\n",
      "4146 получать_VERB\n",
      "4139 ада_NOUN\n",
      "4137 обеспечивать_VERB\n",
      "4131 максимальный_ADJF\n",
      "4127 потенциал_NOUN\n",
      "4124 множество_NOUN\n",
      "4117 оказаться_VERB\n",
      "4106 эксперимент_NOUN\n",
      "4105 системный_ADJF\n",
      "4104 возраст_NOUN#год_NOUN\n",
      "4098 специфический_ADJF\n",
      "4098 требовать_VERB\n",
      "4087 белка_NOUN\n",
      "4074 российский_ADJF%федерация_NOUN\n",
      "4073 около_PREP\n",
      "4067 нагрузка_NOUN\n",
      "4063 концепция_NOUN\n",
      "4052 указанный_ADJF\n",
      "4045 указывать_VERB\n",
      "4034 внешний_ADJF\n",
      "4026 безопасность_NOUN\n",
      "4025 оптимальный_ADJF\n",
      "4016 восстановление_NOUN\n",
      "4009 более_ADVB%высокий_ADJF\n",
      "3990 кожа_NOUN\n",
      "3989 устойчивость_NOUN\n",
      "3986 институт_NOUN\n",
      "3978 мужчина_NOUN\n",
      "3976 распространение_NOUN\n",
      "3973 слой_NOUN\n",
      "3965 слово_NOUN\n",
      "3904 категория_NOUN\n",
      "3904 специалист_NOUN\n",
      "3893 сустав_NOUN\n",
      "3893 несколько_NUMR\n",
      "3882 шкала_NOUN\n",
      "3878 обработка_NOUN\n",
      "3869 традиционный_ADJF\n",
      "3863 внимание_NOUN\n",
      "3861 биологический_ADJF\n",
      "3859 развиваться_VERB\n",
      "3840 том_NOUN%далее_ADVB\n",
      "3840 формула_NOUN\n",
      "3837 смерть_NOUN\n",
      "3826 физический_ADJF\n",
      "3820 курс_NOUN\n",
      "3805 стандартный_ADJF\n",
      "3798 определять_PRTF\n",
      "3798 мозг_NOUN\n",
      "3786 существенный_ADJF\n",
      "3778 личность_NOUN\n",
      "3755 цена_NOUN\n",
      "3745 наука_NOUN\n",
      "3737 тысяча_NOUN\n",
      "3728 генетический_ADJF\n",
      "3721 взрослый_NOUN\n",
      "3715 антитело_NOUN\n",
      "3713 центральный_ADJF\n",
      "3710 интенсивность_NOUN\n",
      "3697 растение_NOUN\n",
      "3693 вода_NOUN\n",
      "3691 преимущественно_ADVB\n",
      "3691 аналогичный_ADJF\n",
      "3685 комплексный_ADJF\n",
      "3683 чувствительность_NOUN\n",
      "3681 значимый_ADJF\n",
      "3675 термин_NOUN\n",
      "3671 профессиональный_ADJF\n",
      "3668 главный_ADJF\n",
      "3650 труд_NOUN\n",
      "3648 влиять_VERB\n",
      "3648 основать_PRTF\n",
      "3645 закон_NOUN\n",
      "3644 сопровождаться_VERB\n",
      "3641 получить_PRTS\n",
      "3640 инструмент_NOUN\n",
      "3638 реальный_ADJF\n",
      "3630 затрата_NOUN\n",
      "3620 преимущество_NOUN\n",
      "3610 основное_NOUN\n",
      "3575 получить_VERB\n",
      "3571 вещество_NOUN\n",
      "3568 локальный_ADJF\n",
      "3568 специальный_ADJF\n",
      "3564 вирус_NOUN\n",
      "3563 образ_NOUN\n",
      "3562 идея_NOUN\n",
      "3558 явление_NOUN\n",
      "3554 применяться_VERB\n",
      "3549 город_NOUN\n",
      "3542 составлять_PRTF\n",
      "3540 должный_ADJS%быть_INFN\n",
      "3535 студент_NOUN\n",
      "3530 плотность_NOUN\n",
      "3521 процедура_NOUN\n",
      "3520 коррекция_NOUN\n",
      "3517 напряжение_NOUN\n",
      "3514 при_PREP#использование_NOUN\n",
      "3513 артерия_NOUN\n",
      "3511 потребность_NOUN\n",
      "3496 медицинский_ADJF\n",
      "3490 миокард_NOUN\n",
      "3487 результат_NOUN#исследование_NOUN\n",
      "3486 длина_NOUN\n",
      "3481 впервые_ADVB\n",
      "3479 молекула_NOUN\n",
      "3472 быть_VERB%показать_PRTS#что_CONJ\n",
      "3471 мутация_NOUN\n",
      "3465 обследование_NOUN\n",
      "3462 моделирование_NOUN\n",
      "3459 план_NOUN\n",
      "3454 публикация_NOUN\n",
      "3443 затем_ADVB\n",
      "3440 против_PREP\n",
      "3432 политический_ADJF\n",
      "3427 килограмм_NOUN\n",
      "3424 чтобы_CONJ\n",
      "3413 сеть_NOUN\n",
      "3406 природа_NOUN\n",
      "3401 прежде_ADVB%всего_ADVB\n",
      "3395 поток_NOUN\n",
      "3395 заключение_NOUN\n",
      "3376 патогенез_NOUN\n",
      "3370 событие_NOUN\n",
      "3369 матрица_NOUN\n",
      "3363 срок_NOUN\n",
      "3358 который_ADJF#являться_VERB\n",
      "3356 быстрый_ADJF\n",
      "3355 деформация_NOUN\n",
      "3353 многие_NPRO\n",
      "3352 врач_NOUN\n",
      "3346 рассматриваться_VERB\n",
      "3346 история_NOUN\n",
      "3340 площадь_NOUN\n",
      "3339 политика_NOUN\n",
      "3333 клеточный_ADJF\n",
      "3332 рецидив_NOUN\n",
      "3325 экспериментальный_ADJF\n",
      "3324 установить_PRTS%что_CONJ\n",
      "3324 осуществляться_VERB\n",
      "3318 время_NOUN#как_CONJ\n",
      "3313 объесть_VERB\n",
      "3311 функционирование_NOUN\n",
      "3309 ключевой_ADJF\n",
      "3303 исследовать_PRTF\n",
      "3299 образец_NOUN\n",
      "3298 поиск_NOUN\n",
      "3296 сигнал_NOUN\n",
      "3294 позволить_VERB\n",
      "3289 открытый_ADJF\n",
      "3281 для_PREP#оценка_NOUN\n",
      "3277 оба_NUMR\n",
      "3276 защита_NOUN\n",
      "3275 ниже_PREP\n",
      "3272 широкий_ADJF\n",
      "3257 обнаружить_PRTS\n",
      "3253 содержимый_VERB\n",
      "3232 небольшой_ADJF\n",
      "3226 стоимость_NOUN\n",
      "3225 наряду_ADVB\n",
      "3223 отечественный_ADJF\n",
      "3219 субъект_NOUN\n",
      "3218 клинический_ADJF#исследование_NOUN\n",
      "3211 всегда_ADVB\n",
      "3194 рисунок_NOUN\n",
      "3191 привести_VERB\n",
      "3189 содержимый_PRTF\n",
      "3186 тем_CONJ%менее_ADVB\n",
      "3183 существующий_ADJF\n",
      "3182 мониторинг_NOUN\n",
      "3178 половина_NOUN\n",
      "3171 спектр_NOUN\n",
      "3170 недостаточность_NOUN\n",
      "3168 практически_ADVB\n",
      "3152 стандарт_NOUN\n",
      "3152 благодаря_PREP\n",
      "3143 штамм_NOUN\n",
      "3138 ценность_NOUN\n",
      "3134 диагноз_NOUN\n",
      "3124 следовать_VERB%отметить_INFN\n",
      "3118 мина_NOUN\n",
      "3115 малое_NOUN\n",
      "3110 отсутствовать_VERB\n",
      "3105 прогрессирование_NOUN\n",
      "3105 профиль_NOUN\n",
      "3103 предполагать_VERB\n",
      "3095 заболеваемость_NOUN\n",
      "3088 локализация_NOUN\n",
      "3078 получать_PRTF\n",
      "3069 включать_PRTF\n",
      "3061 усиление_NOUN\n",
      "3061 финансовый_ADJF\n",
      "3060 правило_NOUN\n",
      "3047 дело_NOUN\n",
      "3046 набор_NOUN\n",
      "3044 летальность_NOUN\n",
      "3044 свой_ADJF%очередь_NOUN\n",
      "3033 факт_NOUN\n",
      "3030 сохранение_NOUN\n",
      "3028 региональный_ADJF\n",
      "3027 ния_None\n",
      "3027 определить_PRTS\n",
      "3014 выделение_NOUN\n",
      "3010 представить_PRTF\n",
      "3007 туберкулёз_NOUN\n",
      "3005 перед_PREP\n",
      "3000 энергия_NOUN\n",
      "2999 представитель_NOUN\n",
      "2997 канал_NOUN\n",
      "2988 выражение_NOUN\n",
      "2985 аспект_NOUN\n",
      "2984 динамика_NOUN\n",
      "2977 или_CONJ%иной_ADJF\n",
      "2977 подготовка_NOUN\n",
      "2965 наибольший_ADJF\n",
      "2957 база_NOUN\n",
      "2952 понимание_NOUN\n",
      "2951 поздний_ADJF\n",
      "2949 обусловить_PRTF\n",
      "2946 индивидуальный_ADJF\n",
      "2946 классический_ADJF\n",
      "2938 помимо_PREP\n",
      "2937 быть_VERB%выявить_PRTS\n",
      "2933 дефект_NOUN\n",
      "2932 отличаться_VERB\n",
      "2931 чаща_NOUN\n",
      "2923 один_ADJF%очередь_NOUN\n",
      "2915 ибс_None\n",
      "2913 включение_NOUN\n",
      "2911 необходимый_ADJF\n",
      "2911 текст_NOUN\n",
      "2905 тенденция_NOUN\n",
      "2904 построение_NOUN\n",
      "2901 высокий_ADJF#уровень_NOUN\n",
      "2901 цикл_NOUN\n",
      "2896 являться_VERB#один_ADJF\n",
      "2895 европейский_ADJF\n",
      "2893 исход_NOUN\n",
      "2890 направить_PRTF\n",
      "2880 вторичный_ADJF\n",
      "2880 технологический_ADJF\n",
      "2879 установка_NOUN\n",
      "2866 очень_ADVB\n",
      "2858 накопление_NOUN\n",
      "2846 сосудистый_ADJF\n",
      "2846 прямая_NOUN\n",
      "2844 местный_ADJF\n",
      "2835 динамик_NOUN\n",
      "2830 школа_NOUN\n",
      "2829 учитывать_GRND\n",
      "2828 дефицит_NOUN\n",
      "2821 разработать_PRTF\n",
      "2819 существование_NOUN\n",
      "2811 век_NOUN\n",
      "2810 кислота_NOUN\n",
      "2809 ожирение_NOUN\n",
      "2809 одновременно_ADVB\n",
      "2806 представлять_VERB\n",
      "2794 витамин_NOUN\n",
      "2793 устройство_NOUN\n",
      "2788 достигать_VERB\n",
      "2788 соединение_NOUN\n",
      "2786 конструкция_NOUN\n",
      "2783 оказывать_VERB\n",
      "2782 вместе_ADVB%тем_CONJ\n",
      "2771 так_CONJ%называть_PRTF\n",
      "2763 структурный_ADJF\n",
      "2761 давать_VERB\n",
      "2747 ведущий_ADJF\n",
      "2744 выживаемость_NOUN\n",
      "2741 точность_NOUN\n",
      "2741 ассоциация_NOUN\n",
      "2737 более_ADVB%чем_CONJ\n",
      "2736 последовательность_NOUN\n",
      "2735 русский_ADJF\n",
      "2733 месяц_NOUN\n",
      "2731 посредством_PREP\n",
      "2728 пациентка_NOUN\n",
      "2727 связь_NOUN%между_PREP\n",
      "2726 недостаток_NOUN\n",
      "2726 следовательно_CONJ\n",
      "2726 особый_ADJF\n",
      "2724 фирма_NOUN\n",
      "2723 продолжительность_NOUN\n",
      "2721 естественный_ADJF\n",
      "2720 технический_ADJF\n",
      "2720 минимальный_ADJF\n"
     ]
    }
   ],
   "source": [
    "for word, count in sorted_by_value_not_stop_words[500:800]:\n",
    "    print(count, word.decode('utf8'))"
   ]
  },
  {
   "cell_type": "code",
   "execution_count": 74,
   "metadata": {
    "ExecuteTime": {
     "end_time": "2018-10-01T15:07:18.943591Z",
     "start_time": "2018-10-01T15:07:18.800339Z"
    }
   },
   "outputs": [],
   "source": [
    "phrases = []\n",
    "for word, count in sorted_by_value_not_stop_words[1:5000]:\n",
    "    if ((b\"#\" in word) and (b\"%\" in word)):        \n",
    "        phrases.append((count, word.decode('utf8')))"
   ]
  },
  {
   "cell_type": "code",
   "execution_count": 75,
   "metadata": {
    "ExecuteTime": {
     "end_time": "2018-10-01T15:07:21.220784Z",
     "start_time": "2018-10-01T15:07:18.967264Z"
    }
   },
   "outputs": [],
   "source": [
    "import pandas as pd\n",
    "pd.DataFrame(phrases).to_csv('frequency_analysis_of_threegrams.csv')"
   ]
  },
  {
   "cell_type": "code",
   "execution_count": 78,
   "metadata": {
    "ExecuteTime": {
     "end_time": "2018-10-01T15:11:03.175319Z",
     "start_time": "2018-10-01T15:10:51.571213Z"
    }
   },
   "outputs": [],
   "source": [
    "sorted_by_value = sorted(dict(bigram.vocab).items(), key=lambda kv: kv[1], reverse=True)\n",
    "\n",
    "phrases = []\n",
    "for word, count in sorted_by_value_not_stop_words[1:5000]:\n",
    "    if  (b\"%\" in word):        \n",
    "        phrases.append((count, word.decode('utf8')))\n",
    "        \n",
    "import pandas as pd\n",
    "pd.DataFrame(phrases).to_csv('frequency_analysis_of_bigrams.csv')"
   ]
  },
  {
   "cell_type": "code",
   "execution_count": null,
   "metadata": {},
   "outputs": [],
   "source": []
  }
 ],
 "metadata": {
  "kernelspec": {
   "display_name": "Python 3",
   "language": "python",
   "name": "python3"
  },
  "language_info": {
   "codemirror_mode": {
    "name": "ipython",
    "version": 3
   },
   "file_extension": ".py",
   "mimetype": "text/x-python",
   "name": "python",
   "nbconvert_exporter": "python",
   "pygments_lexer": "ipython3",
   "version": "3.5.2"
  },
  "varInspector": {
   "cols": {
    "lenName": 16,
    "lenType": 16,
    "lenVar": 40
   },
   "kernels_config": {
    "python": {
     "delete_cmd_postfix": "",
     "delete_cmd_prefix": "del ",
     "library": "var_list.py",
     "varRefreshCmd": "print(var_dic_list())"
    },
    "r": {
     "delete_cmd_postfix": ") ",
     "delete_cmd_prefix": "rm(",
     "library": "var_list.r",
     "varRefreshCmd": "cat(var_dic_list()) "
    }
   },
   "types_to_exclude": [
    "module",
    "function",
    "builtin_function_or_method",
    "instance",
    "_Feature"
   ],
   "window_display": false
  }
 },
 "nbformat": 4,
 "nbformat_minor": 2
}
